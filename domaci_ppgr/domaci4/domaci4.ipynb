{
  "nbformat": 4,
  "nbformat_minor": 0,
  "metadata": {
    "colab": {
      "name": "domaci4.ipynb",
      "provenance": [],
      "collapsed_sections": []
    },
    "kernelspec": {
      "name": "python3",
      "display_name": "Python 3"
    }
  },
  "cells": [
    {
      "cell_type": "code",
      "metadata": {
        "id": "M6G9RVICIfIf"
      },
      "source": [
        "import numpy as np\n",
        "from scipy import linalg as SLA\n",
        "import math as m"
      ],
      "execution_count": null,
      "outputs": []
    },
    {
      "cell_type": "code",
      "metadata": {
        "colab": {
          "base_uri": "https://localhost:8080/"
        },
        "id": "913mcdTRih35",
        "outputId": "e2b9fce6-bf0f-4831-b67e-dae119db19d0"
      },
      "source": [
        "def TwoEquations(x,xp):\n",
        "    v1=np.array([0,0,0,0,  -xp[2]*x[0],-xp[2]*x[1],-xp[2]*x[2],-xp[2]*x[3],   xp[1]*x[0],xp[1]*x[1],xp[1]*x[2],xp[1]*x[3]      ])\n",
        "    v2=np.array([xp[2]*x[0],xp[2]*x[1],xp[2]*x[2],xp[2]*x[3],0,0,0,0, -xp[0]*x[0],-xp[0]*x[1],-xp[0]*x[2],-xp[0]*x[3]])\n",
        "    return v1,v2\n",
        "def CameraDLP(points_original,points_images):\n",
        "    n=len(points_original)\n",
        "    if(n!=len(points_images)):\n",
        "      print(\"Razlicit broj tacaka u originalu i slici\")\n",
        "    e1,e2=TwoEquations(points_original[0],points_images[0])\n",
        "    A = np.vstack((e1,e2))\n",
        "    for i in range(1,n):\n",
        "        e1,e2=TwoEquations(points_original[i],points_images[i])\n",
        "        A = np.vstack([A, e1])\n",
        "        A = np.vstack([A, e2])\n",
        "    _, _, V = np.linalg.svd(A)\n",
        "    P = V[-1, :] \n",
        "    P=P.reshape(3,4)\n",
        "    return P\n",
        "n=2; #N = 2\n",
        "M1=(460,280,250,1)\n",
        "M2=(50,380,350,1)\n",
        "M3=(470,500,100,1)\n",
        "M4=(380,630,50*n,1)\n",
        "#M4=(380,630,0,1)\n",
        "M5=(30*n,290,0,1)\n",
        "#M5=(240,290,0,1)\n",
        "M6=(580,0,130,1)\n",
        "\n",
        "M1p=(288,251,1)\n",
        "M2p=(79,510,1)\n",
        "M3p=(470,440,1)\n",
        "M4p=(520,590,1)\n",
        "M5p=(365,388,1)\n",
        "M6p=(365,20,1)\n",
        "points_original=[M1,M2,M3,M4,M5,M6]\n",
        "points_images=[M1p,M2p,M3p,M4p,M5p,M6p]\n",
        "matrica=CameraDLP(points_original,points_images)\n",
        "matrica=matrica/matrica[0,0]\n",
        "print(\"Matrica T\")\n",
        "with np.printoptions(precision=10, suppress=True):\n",
        "  print(matrica)\n"
      ],
      "execution_count": null,
      "outputs": [
        {
          "output_type": "stream",
          "text": [
            "Matrica T\n",
            "[[    1.               0.212637819     10.2571641027 -4173.8220561728]\n",
            " [    5.0457732123    -2.836051882      5.2836650151 -3774.5706466265]\n",
            " [    0.0082469732     0.0048303107     0.0154891901   -13.0012708653]]\n"
          ],
          "name": "stdout"
        }
      ]
    },
    {
      "cell_type": "code",
      "metadata": {
        "colab": {
          "base_uri": "https://localhost:8080/"
        },
        "id": "llSo2VggRCoS",
        "outputId": "687dab5b-97c6-4a07-b722-73c3e7a4ecdb"
      },
      "source": [
        "def IzracunajC(T):\n",
        "  matr1=np.array([T[:,1],T[:,2],T[:,3]])\n",
        "  det1=np.linalg.det(matr1)\n",
        "  matr2=np.array([T[:,0],T[:,2],T[:,3]])\n",
        "  det2=-np.linalg.det(matr2)\n",
        "  matr3=np.array([T[:,0],T[:,1],T[:,3]])\n",
        "  det3=np.linalg.det(matr3)\n",
        "  matr4=np.array([T[:,0],T[:,1],T[:,2]])\n",
        "  det4=-np.linalg.det(matr4)\n",
        "  det1=det1/det4\n",
        "  det2=det2/det4\n",
        "  det3=det3/det4\n",
        "  return det1,det2,det3\n",
        "def ParametriKamere(T):\n",
        "  c1,c2,c3=IzracunajC(T) \n",
        "  T0=[T[:,0],T[:,1],T[:,2] ]\n",
        "  if np.linalg.det(T0)<0:\n",
        "    T0=T0*(-1) \n",
        "  Tinverz=np.linalg.inv(T0).T\n",
        "  q, r = SLA.qr(Tinverz)\n",
        "  if r[0,0]<0:\n",
        "    r[0,0]=-r[0,0]\n",
        "    r[0,1]=-r[0,1]\n",
        "    r[0,2]=-r[0,2]\n",
        "    q[0,0]=-q[0,0]\n",
        "    q[1,0]=-q[1,0]\n",
        "    q[2,0]=-q[2,0]\n",
        "  if r[1,1]<0:\n",
        "    r[1,1]=-r[1,1]\n",
        "    r[1,0]=-r[1,0]\n",
        "    r[1,2]=-r[1,2]\n",
        "    q[1,1]=-q[1,1]\n",
        "    q[1,1]=-q[1,1]\n",
        "    q[2,1]=-q[2,1]\n",
        "  if r[2,2]<0:\n",
        "    r[2,0]=-r[2,0]\n",
        "    r[2,1]=-r[2,1]\n",
        "    r[2,2]=-r[2,2]\n",
        "    q[0,2]=-q[0,2]\n",
        "    q[1,2]=-q[1,2]\n",
        "    q[2,2]=-q[2,2]\n",
        "  k=np.linalg.inv(r)\n",
        "  if k[2,2]!=1:\n",
        "    k=k/k[2,2]\n",
        "  a=np.matrix.transpose(q)\n",
        "  return a,k,c1,c2,c3\n",
        "n=2\n",
        "T=np.array([[5,-1-2*n,3,18-3*n],[0,-1,5,21],[0,-1,0,1]])\n",
        "#T=matrica\n",
        "a,k,c1,c2,c3=ParametriKamere(T)\n",
        "print(\"Matrica K:\")\n",
        "with np.printoptions(precision=10, suppress=True):\n",
        "  print(k)\n",
        "print(\"Matrica A\")\n",
        "print(np.round(a,6))\n",
        "c=np.array([c1,c2,c3])\n",
        "print(\"Pozicija kamere C: \")\n",
        "print(np.round(c,3))"
      ],
      "execution_count": null,
      "outputs": [
        {
          "output_type": "stream",
          "text": [
            "Matrica K:\n",
            "[[5. 3. 5.]\n",
            " [0. 5. 1.]\n",
            " [0. 0. 1.]]\n",
            "Matrica A\n",
            "[[ 1.  0.  0.]\n",
            " [ 0.  0.  1.]\n",
            " [ 0. -1.  0.]]\n",
            "Pozicija kamere C: \n",
            "[ 1.  1. -4.]\n"
          ],
          "name": "stdout"
        }
      ]
    },
    {
      "cell_type": "code",
      "metadata": {
        "id": "KyRsipngiTIW"
      },
      "source": [
        ""
      ],
      "execution_count": null,
      "outputs": []
    },
    {
      "cell_type": "code",
      "metadata": {
        "id": "VyWOL3EJKYZy"
      },
      "source": [
        ""
      ],
      "execution_count": null,
      "outputs": []
    },
    {
      "cell_type": "code",
      "metadata": {
        "colab": {
          "base_uri": "https://localhost:8080/",
          "height": 504
        },
        "id": "P-wd_iAGM9Ol",
        "outputId": "8b628b64-12e6-40e5-e86e-89e3f4c03605"
      },
      "source": [
        "T=np.array([[5,-5,3,12],[0,-1,5,21],[0,-1,0,1]])\n",
        "#T=np.array([[-2,3,0,7],[-3,0,3,-6],[1,0,0,-2]])\n",
        "#T=np.array([[-5,2,0,1],[3,0,2,-9],[1,0,0,-1]])\n",
        "#T=np.array([[5,-23,3,-15],[0,-1,5,21],[0,-1,0,1]])\n",
        "\n",
        "\n",
        "\n",
        "def IzracunajC(T):\n",
        "  print(\"T\")\n",
        "  print(T)\n",
        "  matr1=np.array([T[:,1],T[:,2],T[:,3]])\n",
        "  det1=int(np.round(np.linalg.det(matr1)))\n",
        "  matr2=np.array([T[:,0],T[:,2],T[:,3]])\n",
        "  det2=int(np.round(-np.linalg.det(matr2)))\n",
        "  matr3=np.array([T[:,0],T[:,1],T[:,3]])\n",
        "  det3=int(np.round(np.linalg.det(matr3)))\n",
        "  matr4=np.array([T[:,0],T[:,1],T[:,2]])\n",
        "  det4=int(np.round(-np.linalg.det(matr4)))\n",
        "  print(\"DETTTTTTTTS\")\n",
        "  print(det1,det2,det3,det4)\n",
        "  #nzd1=m.gcd(det1,det2)\n",
        "  #nzd2=m.gcd(nzd1,det3)\n",
        "  #nzd=m.gcd(nzd2,det4)\n",
        "  #det1=det1/nzd\n",
        "  #det2=det2/nzd\n",
        "  #det3=det3/nzd\n",
        "  #det4=det4/nzd\n",
        "  det1=det1/det4\n",
        "  det2=det2/det4\n",
        "  det3=det3/det4\n",
        "  return det1,det2,det3\n",
        "def ParametriKamere(T):\n",
        "  c1,c2,c3=IzracunajC(T) \n",
        "  T0=[T[:,0],T[:,1],T[:,2] ]\n",
        "  if np.linalg.det(T0)<0:\n",
        "    T0=T0*(-1) \n",
        "  Tinverz=np.linalg.inv(T0).T\n",
        "  q, r = SLA.qr(Tinverz)\n",
        "  if r[0,0]<0:\n",
        "    r[0,0]=-r[0,0]\n",
        "    r[0,1]=-r[0,1]\n",
        "    r[0,2]=-r[0,2]\n",
        "    q[0,0]=-q[0,0]\n",
        "    q[1,0]=-q[1,0]\n",
        "    q[2,0]=-q[2,0]\n",
        "  if r[1,1]<0:\n",
        "    r[1,1]=-r[1,1]\n",
        "    r[1,0]=-r[1,0]\n",
        "    r[1,2]=-r[1,2]\n",
        "    q[1,1]=-q[1,1]\n",
        "    q[1,1]=-q[1,1]\n",
        "    q[2,1]=-q[2,1]\n",
        "  if r[2,2]<0:\n",
        "    r[2,0]=-r[2,0]\n",
        "    r[2,1]=-r[2,1]\n",
        "    r[2,2]=-r[2,2]\n",
        "    q[0,2]=-q[0,2]\n",
        "    q[1,2]=-q[1,2]\n",
        "    q[2,2]=-q[2,2]\n",
        "  k=np.linalg.inv(r)\n",
        "  if k[2,2]!=1:\n",
        "    k=k/k[2,2]\n",
        "  a=np.matrix.transpose(q)\n",
        "  return a,k,c1,c2,c3\n",
        "\n",
        "T=matrica\n",
        "#n=2  \n",
        "#T=np.array([[1,5,7,-2],[3,0,2,3],[4,-1,0,1]])\n",
        "#T=np.array([[5,-1-2*n,3,18-3*n],[0,-1,5,21],[0,-1,0,1]])\n",
        "#T=np.array([[5,-23,3,-15],[0,-1,5,21],[0,-1,0,1]])\n",
        "a,k,c1,c2,c3=ParametriKamere(T)\n",
        "print(\"Matrica K:\")\n",
        "print(k)\n",
        "print(\"Matrica A\")\n",
        "print(a)\n",
        "c=np.array([c1,c2,c3])\n",
        "print(\"Pozicija kamere C: \")\n",
        "print(c)"
      ],
      "execution_count": null,
      "outputs": [
        {
          "output_type": "stream",
          "text": [
            "T\n",
            "[[ 1.77699489e-04  3.77856318e-05  1.82269282e-03 -7.41686047e-01]\n",
            " [ 8.96631322e-04 -5.03964970e-04  9.38904574e-04 -6.70739275e-01]\n",
            " [ 1.46548293e-06  8.58343738e-07  2.75242116e-06 -2.31031919e-03]]\n",
            "DETTTTTTTTS\n",
            "0 0 0 0\n"
          ],
          "name": "stdout"
        },
        {
          "output_type": "error",
          "ename": "ZeroDivisionError",
          "evalue": "ignored",
          "traceback": [
            "\u001b[0;31m---------------------------------------------------------------------------\u001b[0m",
            "\u001b[0;31mZeroDivisionError\u001b[0m                         Traceback (most recent call last)",
            "\u001b[0;32m<ipython-input-28-516323251962>\u001b[0m in \u001b[0;36m<module>\u001b[0;34m()\u001b[0m\n\u001b[1;32m     69\u001b[0m \u001b[0;31m#T=np.array([[5,-1-2*n,3,18-3*n],[0,-1,5,21],[0,-1,0,1]])\u001b[0m\u001b[0;34m\u001b[0m\u001b[0;34m\u001b[0m\u001b[0;34m\u001b[0m\u001b[0m\n\u001b[1;32m     70\u001b[0m \u001b[0;31m#T=np.array([[5,-23,3,-15],[0,-1,5,21],[0,-1,0,1]])\u001b[0m\u001b[0;34m\u001b[0m\u001b[0;34m\u001b[0m\u001b[0;34m\u001b[0m\u001b[0m\n\u001b[0;32m---> 71\u001b[0;31m \u001b[0ma\u001b[0m\u001b[0;34m,\u001b[0m\u001b[0mk\u001b[0m\u001b[0;34m,\u001b[0m\u001b[0mc1\u001b[0m\u001b[0;34m,\u001b[0m\u001b[0mc2\u001b[0m\u001b[0;34m,\u001b[0m\u001b[0mc3\u001b[0m\u001b[0;34m=\u001b[0m\u001b[0mParametriKamere\u001b[0m\u001b[0;34m(\u001b[0m\u001b[0mT\u001b[0m\u001b[0;34m)\u001b[0m\u001b[0;34m\u001b[0m\u001b[0;34m\u001b[0m\u001b[0m\n\u001b[0m\u001b[1;32m     72\u001b[0m \u001b[0mprint\u001b[0m\u001b[0;34m(\u001b[0m\u001b[0;34m\"Matrica K:\"\u001b[0m\u001b[0;34m)\u001b[0m\u001b[0;34m\u001b[0m\u001b[0;34m\u001b[0m\u001b[0m\n\u001b[1;32m     73\u001b[0m \u001b[0mprint\u001b[0m\u001b[0;34m(\u001b[0m\u001b[0mk\u001b[0m\u001b[0;34m)\u001b[0m\u001b[0;34m\u001b[0m\u001b[0;34m\u001b[0m\u001b[0m\n",
            "\u001b[0;32m<ipython-input-28-516323251962>\u001b[0m in \u001b[0;36mParametriKamere\u001b[0;34m(T)\u001b[0m\n\u001b[1;32m     31\u001b[0m   \u001b[0;32mreturn\u001b[0m \u001b[0mdet1\u001b[0m\u001b[0;34m,\u001b[0m\u001b[0mdet2\u001b[0m\u001b[0;34m,\u001b[0m\u001b[0mdet3\u001b[0m\u001b[0;34m\u001b[0m\u001b[0;34m\u001b[0m\u001b[0m\n\u001b[1;32m     32\u001b[0m \u001b[0;32mdef\u001b[0m \u001b[0mParametriKamere\u001b[0m\u001b[0;34m(\u001b[0m\u001b[0mT\u001b[0m\u001b[0;34m)\u001b[0m\u001b[0;34m:\u001b[0m\u001b[0;34m\u001b[0m\u001b[0;34m\u001b[0m\u001b[0m\n\u001b[0;32m---> 33\u001b[0;31m   \u001b[0mc1\u001b[0m\u001b[0;34m,\u001b[0m\u001b[0mc2\u001b[0m\u001b[0;34m,\u001b[0m\u001b[0mc3\u001b[0m\u001b[0;34m=\u001b[0m\u001b[0mIzracunajC\u001b[0m\u001b[0;34m(\u001b[0m\u001b[0mT\u001b[0m\u001b[0;34m)\u001b[0m\u001b[0;34m\u001b[0m\u001b[0;34m\u001b[0m\u001b[0m\n\u001b[0m\u001b[1;32m     34\u001b[0m   \u001b[0mT0\u001b[0m\u001b[0;34m=\u001b[0m\u001b[0;34m[\u001b[0m\u001b[0mT\u001b[0m\u001b[0;34m[\u001b[0m\u001b[0;34m:\u001b[0m\u001b[0;34m,\u001b[0m\u001b[0;36m0\u001b[0m\u001b[0;34m]\u001b[0m\u001b[0;34m,\u001b[0m\u001b[0mT\u001b[0m\u001b[0;34m[\u001b[0m\u001b[0;34m:\u001b[0m\u001b[0;34m,\u001b[0m\u001b[0;36m1\u001b[0m\u001b[0;34m]\u001b[0m\u001b[0;34m,\u001b[0m\u001b[0mT\u001b[0m\u001b[0;34m[\u001b[0m\u001b[0;34m:\u001b[0m\u001b[0;34m,\u001b[0m\u001b[0;36m2\u001b[0m\u001b[0;34m]\u001b[0m \u001b[0;34m]\u001b[0m\u001b[0;34m\u001b[0m\u001b[0;34m\u001b[0m\u001b[0m\n\u001b[1;32m     35\u001b[0m   \u001b[0;32mif\u001b[0m \u001b[0mnp\u001b[0m\u001b[0;34m.\u001b[0m\u001b[0mlinalg\u001b[0m\u001b[0;34m.\u001b[0m\u001b[0mdet\u001b[0m\u001b[0;34m(\u001b[0m\u001b[0mT0\u001b[0m\u001b[0;34m)\u001b[0m\u001b[0;34m<\u001b[0m\u001b[0;36m0\u001b[0m\u001b[0;34m:\u001b[0m\u001b[0;34m\u001b[0m\u001b[0;34m\u001b[0m\u001b[0m\n",
            "\u001b[0;32m<ipython-input-28-516323251962>\u001b[0m in \u001b[0;36mIzracunajC\u001b[0;34m(T)\u001b[0m\n\u001b[1;32m     26\u001b[0m   \u001b[0;31m#det3=det3/nzd\u001b[0m\u001b[0;34m\u001b[0m\u001b[0;34m\u001b[0m\u001b[0;34m\u001b[0m\u001b[0m\n\u001b[1;32m     27\u001b[0m   \u001b[0;31m#det4=det4/nzd\u001b[0m\u001b[0;34m\u001b[0m\u001b[0;34m\u001b[0m\u001b[0;34m\u001b[0m\u001b[0m\n\u001b[0;32m---> 28\u001b[0;31m   \u001b[0mdet1\u001b[0m\u001b[0;34m=\u001b[0m\u001b[0mdet1\u001b[0m\u001b[0;34m/\u001b[0m\u001b[0mdet4\u001b[0m\u001b[0;34m\u001b[0m\u001b[0;34m\u001b[0m\u001b[0m\n\u001b[0m\u001b[1;32m     29\u001b[0m   \u001b[0mdet2\u001b[0m\u001b[0;34m=\u001b[0m\u001b[0mdet2\u001b[0m\u001b[0;34m/\u001b[0m\u001b[0mdet4\u001b[0m\u001b[0;34m\u001b[0m\u001b[0;34m\u001b[0m\u001b[0m\n\u001b[1;32m     30\u001b[0m   \u001b[0mdet3\u001b[0m\u001b[0;34m=\u001b[0m\u001b[0mdet3\u001b[0m\u001b[0;34m/\u001b[0m\u001b[0mdet4\u001b[0m\u001b[0;34m\u001b[0m\u001b[0;34m\u001b[0m\u001b[0m\n",
            "\u001b[0;31mZeroDivisionError\u001b[0m: division by zero"
          ]
        }
      ]
    },
    {
      "cell_type": "code",
      "metadata": {
        "id": "1BaKz41sm42l"
      },
      "source": [
        ""
      ],
      "execution_count": null,
      "outputs": []
    }
  ]
}